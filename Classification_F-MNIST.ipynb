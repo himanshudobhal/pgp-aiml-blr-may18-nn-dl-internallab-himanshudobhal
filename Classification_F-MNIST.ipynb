{
 "cells": [
  {
   "cell_type": "markdown",
   "metadata": {},
   "source": [
    "### A MNIST-like fashion product database\n",
    "\n",
    "In this, we classify the images into respective classes given in the dataset. We use a Neural Net and a Deep Neural Net in Keras to solve this and check the accuracy scores."
   ]
  },
  {
   "cell_type": "markdown",
   "metadata": {
    "slideshow": {
     "slide_type": "slide"
    }
   },
   "source": [
    "### Load tensorflow"
   ]
  },
  {
   "cell_type": "code",
   "execution_count": 1,
   "metadata": {},
   "outputs": [
    {
     "name": "stderr",
     "output_type": "stream",
     "text": [
      "/usr/local/anaconda/python3/lib/python3.6/site-packages/h5py/__init__.py:34: FutureWarning: Conversion of the second argument of issubdtype from `float` to `np.floating` is deprecated. In future, it will be treated as `np.float64 == np.dtype(float).type`.\n",
      "  from ._conv import register_converters as _register_converters\n"
     ]
    }
   ],
   "source": [
    "import tensorflow as tf\n",
    "tf.set_random_seed(42)"
   ]
  },
  {
   "cell_type": "code",
   "execution_count": 2,
   "metadata": {},
   "outputs": [
    {
     "data": {
      "text/plain": [
       "'1.8.0'"
      ]
     },
     "execution_count": 2,
     "metadata": {},
     "output_type": "execute_result"
    }
   ],
   "source": [
    "tf.__version__"
   ]
  },
  {
   "cell_type": "markdown",
   "metadata": {
    "slideshow": {
     "slide_type": "slide"
    }
   },
   "source": [
    "### Collect Data"
   ]
  },
  {
   "cell_type": "code",
   "execution_count": 3,
   "metadata": {},
   "outputs": [
    {
     "name": "stderr",
     "output_type": "stream",
     "text": [
      "Using TensorFlow backend.\n"
     ]
    }
   ],
   "source": [
    "import keras"
   ]
  },
  {
   "cell_type": "code",
   "execution_count": 4,
   "metadata": {},
   "outputs": [
    {
     "name": "stdout",
     "output_type": "stream",
     "text": [
      "Downloading data from http://fashion-mnist.s3-website.eu-central-1.amazonaws.com/train-labels-idx1-ubyte.gz\n",
      "32768/29515 [=================================] - 0s 3us/step\n",
      "Downloading data from http://fashion-mnist.s3-website.eu-central-1.amazonaws.com/train-images-idx3-ubyte.gz\n",
      "26427392/26421880 [==============================] - 5s 0us/step\n",
      "Downloading data from http://fashion-mnist.s3-website.eu-central-1.amazonaws.com/t10k-labels-idx1-ubyte.gz\n",
      "8192/5148 [===============================================] - 0s 0us/step\n",
      "Downloading data from http://fashion-mnist.s3-website.eu-central-1.amazonaws.com/t10k-images-idx3-ubyte.gz\n",
      "4423680/4422102 [==============================] - 3s 1us/step\n"
     ]
    }
   ],
   "source": [
    "(trainX, trainY), (testX, testY) = keras.datasets.fashion_mnist.load_data()"
   ]
  },
  {
   "cell_type": "code",
   "execution_count": 5,
   "metadata": {
    "slideshow": {
     "slide_type": "fragment"
    }
   },
   "outputs": [
    {
     "name": "stdout",
     "output_type": "stream",
     "text": [
      "[9 2 1 1 6]\n"
     ]
    }
   ],
   "source": [
    "print(testY[0:5])"
   ]
  },
  {
   "cell_type": "markdown",
   "metadata": {
    "slideshow": {
     "slide_type": "slide"
    }
   },
   "source": [
    "### Convert both training and testing labels into one-hot vectors.\n",
    "\n",
    "**Hint:** check **tf.keras.utils.to_categorical()**"
   ]
  },
  {
   "cell_type": "code",
   "execution_count": 7,
   "metadata": {},
   "outputs": [],
   "source": [
    "from keras.utils import np_utils\n",
    "y_train = np_utils.to_categorical(trainY)\n",
    "y_test = np_utils.to_categorical(testY)\n",
    "num_classes = y_test.shape[1]"
   ]
  },
  {
   "cell_type": "markdown",
   "metadata": {},
   "source": [
    "#### Expected Output should look like this"
   ]
  },
  {
   "cell_type": "code",
   "execution_count": 42,
   "metadata": {
    "scrolled": false,
    "slideshow": {
     "slide_type": "fragment"
    }
   },
   "outputs": [
    {
     "name": "stdout",
     "output_type": "stream",
     "text": [
      "(60000, 10)\n",
      "('First 5 examples now are: ', array([[0., 0., 0., 0., 0., 0., 0., 0., 0., 1.],\n",
      "       [1., 0., 0., 0., 0., 0., 0., 0., 0., 0.],\n",
      "       [1., 0., 0., 0., 0., 0., 0., 0., 0., 0.],\n",
      "       [0., 0., 0., 1., 0., 0., 0., 0., 0., 0.],\n",
      "       [1., 0., 0., 0., 0., 0., 0., 0., 0., 0.]]))\n"
     ]
    }
   ],
   "source": [
    "print(trainY.shape)\n",
    "print('First 5 examples now are: ', trainY[0:5])"
   ]
  },
  {
   "cell_type": "markdown",
   "metadata": {},
   "source": [
    "### Visualize the data\n",
    "\n",
    "Plot first 10 images in the triaining set and their labels."
   ]
  },
  {
   "cell_type": "code",
   "execution_count": 12,
   "metadata": {
    "scrolled": true
   },
   "outputs": [
    {
     "name": "stderr",
     "output_type": "stream",
     "text": [
      "/usr/local/anaconda/python3/lib/python3.6/site-packages/matplotlib/cbook/deprecation.py:107: MatplotlibDeprecationWarning: Adding an axes using the same arguments as a previous axes currently reuses the earlier instance.  In a future version, a new instance will always be created and returned.  Meanwhile, this warning can be suppressed, and the future behavior ensured, by passing a unique label to each axes instance.\n",
      "  warnings.warn(message, mplDeprecation, stacklevel=1)\n"
     ]
    },
    {
     "data": {
      "image/png": "[encoded data removed]",
      "text/plain": [
       "<Figure size 432x288 with 9 Axes>"
      ]
     },
     "metadata": {},
     "output_type": "display_data"
    }
   ],
   "source": [
    "import matplotlib.pyplot as plt\n",
    "plt.subplot(521)\n",
    "plt.imshow(trainX[0], cmap=plt.get_cmap('gray'))\n",
    "plt.subplot(522)\n",
    "plt.imshow(trainX[1], cmap=plt.get_cmap('gray'))\n",
    "plt.subplot(523)\n",
    "plt.imshow(trainX[2], cmap=plt.get_cmap('gray'))\n",
    "plt.subplot(524)\n",
    "plt.imshow(trainX[3], cmap=plt.get_cmap('gray'))\n",
    "plt.subplot(525)\n",
    "plt.imshow(trainX[0], cmap=plt.get_cmap('gray'))\n",
    "plt.subplot(526)\n",
    "plt.imshow(trainX[1], cmap=plt.get_cmap('gray'))\n",
    "plt.subplot(527)\n",
    "plt.imshow(trainX[2], cmap=plt.get_cmap('gray'))\n",
    "plt.subplot(528)\n",
    "plt.imshow(trainX[3], cmap=plt.get_cmap('gray'))\n",
    "plt.subplot(529)\n",
    "plt.imshow(trainX[0], cmap=plt.get_cmap('gray'))\n",
    "#plt.subplot(5210)\n",
    "#plt.imshow(trainX[1], cmap=plt.get_cmap('gray'))\n",
    "\n",
    "# show the plot\n",
    "plt.show()\n",
    "\n",
    "#### Expected Output"
   ]
  },
  {
   "cell_type": "markdown",
   "metadata": {
    "slideshow": {
     "slide_type": "slide"
    }
   },
   "source": [
    "### Build a neural Network with a cross entropy loss function and sgd optimizer in Keras. The output layer with 10 neurons as we have 10 classes."
   ]
  },
  {
   "cell_type": "code",
   "execution_count": 37,
   "metadata": {
    "collapsed": true
   },
   "outputs": [],
   "source": [
    "from keras.models import Sequential\n",
    "from keras.layers import Dense\n",
    "from keras.layers.normalization import BatchNormalization\n",
    "from keras import optimizers"
   ]
  },
  {
   "cell_type": "code",
   "execution_count": 30,
   "metadata": {},
   "outputs": [],
   "source": [
    "num_pixels = trainX.shape[1] * trainX.shape[2]\n",
    "X_train = trainX.reshape(trainX.shape[0], num_pixels).astype('float32')\n",
    "X_test = testX.reshape(testX.shape[0], num_pixels).astype('float32')\n",
    "\n",
    "X_train = X_train / 255\n",
    "X_test = X_test / 255\n",
    "\n",
    "\n",
    "def baseline_model():\n",
    "\t# create model\n",
    "\tmodel = Sequential()\n",
    "\tmodel.add(Dense(num_pixels, input_dim=num_pixels, kernel_initializer='normal'))\n",
    "    \n",
    "\tmodel.add(Dense(num_classes, kernel_initializer='normal', activation='softmax'))\n",
    "\t# Compile model\n",
    "\tmodel.compile(loss='categorical_crossentropy', optimizer='sgd', metrics=['accuracy'])\n",
    "\treturn model\n",
    "\n",
    "\n"
   ]
  },
  {
   "cell_type": "markdown",
   "metadata": {
    "slideshow": {
     "slide_type": "slide"
    }
   },
   "source": [
    "### Execute the model using model.fit()"
   ]
  },
  {
   "cell_type": "code",
   "execution_count": 31,
   "metadata": {},
   "outputs": [
    {
     "name": "stdout",
     "output_type": "stream",
     "text": [
      "Train on 60000 samples, validate on 10000 samples\n",
      "Epoch 1/10\n",
      " - 3s - loss: 0.9322 - acc: 0.6935 - val_loss: 0.7205 - val_acc: 0.7545\n",
      "Epoch 2/10\n",
      " - 3s - loss: 0.6495 - acc: 0.7859 - val_loss: 0.6317 - val_acc: 0.7866\n",
      "Epoch 3/10\n",
      " - 3s - loss: 0.5864 - acc: 0.8058 - val_loss: 0.5926 - val_acc: 0.7985\n",
      "Epoch 4/10\n",
      " - 3s - loss: 0.5519 - acc: 0.8155 - val_loss: 0.5638 - val_acc: 0.8088\n",
      "Epoch 5/10\n",
      " - 3s - loss: 0.5288 - acc: 0.8224 - val_loss: 0.5477 - val_acc: 0.8133\n",
      "Epoch 6/10\n",
      " - 3s - loss: 0.5127 - acc: 0.8267 - val_loss: 0.5343 - val_acc: 0.8153\n",
      "Epoch 7/10\n",
      " - 3s - loss: 0.5001 - acc: 0.8310 - val_loss: 0.5262 - val_acc: 0.8190\n",
      "Epoch 8/10\n",
      " - 3s - loss: 0.4891 - acc: 0.8333 - val_loss: 0.5154 - val_acc: 0.8233\n",
      "Epoch 9/10\n",
      " - 3s - loss: 0.4813 - acc: 0.8371 - val_loss: 0.5084 - val_acc: 0.8250\n",
      "Epoch 10/10\n",
      " - 3s - loss: 0.4741 - acc: 0.8386 - val_loss: 0.5078 - val_acc: 0.8261\n",
      "Baseline Error: 17.39%\n"
     ]
    }
   ],
   "source": [
    "model = baseline_model()\n",
    "# Fit the model\n",
    "model.fit(X_train, y_train, validation_data=(X_test, y_test), epochs=10, batch_size=200, verbose=2)\n",
    "# Final evaluation of the model\n",
    "scores = model.evaluate(X_test, y_test, verbose=0)\n",
    "print(\"Baseline Error: %.2f%%\" % (100-scores[1]*100))"
   ]
  },
  {
   "cell_type": "markdown",
   "metadata": {
    "slideshow": {
     "slide_type": "slide"
    }
   },
   "source": [
    "### In the above Neural Network model add Batch Normalization layer after the input layer and repeat the steps."
   ]
  },
  {
   "cell_type": "code",
   "execution_count": 28,
   "metadata": {},
   "outputs": [],
   "source": [
    "def baseline_model1():\n",
    "\t# create model\n",
    "\tmodel = Sequential()\n",
    "    \n",
    "\tmodel.add(Dense(num_pixels, input_dim=num_pixels, kernel_initializer='normal'))\n",
    "\tmodel.add(BatchNormalization(axis=-1))\n",
    "\tmodel.add(Dense(num_classes, kernel_initializer='normal', activation='softmax'))\n",
    "\t# Compile model\n",
    "\tmodel.compile(loss='categorical_crossentropy', optimizer='sgd', metrics=['accuracy'])\n",
    "\treturn model"
   ]
  },
  {
   "cell_type": "markdown",
   "metadata": {
    "slideshow": {
     "slide_type": "slide"
    }
   },
   "source": [
    "### Execute the model"
   ]
  },
  {
   "cell_type": "code",
   "execution_count": 29,
   "metadata": {},
   "outputs": [
    {
     "name": "stdout",
     "output_type": "stream",
     "text": [
      "Train on 60000 samples, validate on 10000 samples\n",
      "Epoch 1/10\n",
      " - 4s - loss: 0.6795 - acc: 0.7678 - val_loss: 0.5596 - val_acc: 0.8070\n",
      "Epoch 2/10\n",
      " - 3s - loss: 0.5107 - acc: 0.8254 - val_loss: 0.5217 - val_acc: 0.8225\n",
      "Epoch 3/10\n",
      " - 3s - loss: 0.4801 - acc: 0.8368 - val_loss: 0.5089 - val_acc: 0.8234\n",
      "Epoch 4/10\n",
      " - 3s - loss: 0.4646 - acc: 0.8408 - val_loss: 0.4886 - val_acc: 0.8321\n",
      "Epoch 5/10\n",
      " - 3s - loss: 0.4528 - acc: 0.8457 - val_loss: 0.4901 - val_acc: 0.8279\n",
      "Epoch 6/10\n",
      " - 3s - loss: 0.4450 - acc: 0.8487 - val_loss: 0.4937 - val_acc: 0.8264\n",
      "Epoch 7/10\n",
      " - 3s - loss: 0.4389 - acc: 0.8509 - val_loss: 0.4776 - val_acc: 0.8335\n",
      "Epoch 8/10\n",
      " - 3s - loss: 0.4337 - acc: 0.8516 - val_loss: 0.4729 - val_acc: 0.8351\n",
      "Epoch 9/10\n",
      " - 3s - loss: 0.4299 - acc: 0.8527 - val_loss: 0.4671 - val_acc: 0.8372\n",
      "Epoch 10/10\n",
      " - 3s - loss: 0.4252 - acc: 0.8560 - val_loss: 0.4666 - val_acc: 0.8364\n",
      "Baseline Error: 16.36%\n"
     ]
    }
   ],
   "source": [
    "model = baseline_model1()\n",
    "# Fit the model\n",
    "model.fit(X_train, y_train, validation_data=(X_test, y_test), epochs=10, batch_size=200, verbose=2)\n",
    "# Final evaluation of the model\n",
    "scores = model.evaluate(X_test, y_test, verbose=0)\n",
    "print(\"Baseline Error: %.2f%%\" % (100-scores[1]*100))"
   ]
  },
  {
   "cell_type": "markdown",
   "metadata": {},
   "source": [
    "### Customize the learning rate to 0.001 in sgd optimizer and run the model"
   ]
  },
  {
   "cell_type": "code",
   "execution_count": 38,
   "metadata": {
    "collapsed": true
   },
   "outputs": [],
   "source": [
    "def baseline_model2():\n",
    "\t# create model\n",
    "\tmodel = Sequential()\n",
    "    \n",
    "\tmodel.add(Dense(num_pixels, input_dim=num_pixels, kernel_initializer='normal'))\n",
    "\tmodel.add(BatchNormalization(axis=-1))\n",
    "\tmodel.add(Dense(num_classes, kernel_initializer='normal', activation='softmax'))\n",
    "\t# Compile model\n",
    "\tsgd = optimizers.SGD(lr=0.001)\n",
    "\tmodel.compile(loss='categorical_crossentropy', optimizer=sgd, metrics=['accuracy'])\n",
    "\treturn model\n"
   ]
  },
  {
   "cell_type": "code",
   "execution_count": 39,
   "metadata": {},
   "outputs": [
    {
     "name": "stdout",
     "output_type": "stream",
     "text": [
      "Train on 60000 samples, validate on 10000 samples\n",
      "Epoch 1/10\n",
      " - 4s - loss: 1.1753 - acc: 0.6021 - val_loss: 0.8461 - val_acc: 0.7106\n",
      "Epoch 2/10\n",
      " - 3s - loss: 0.7505 - acc: 0.7450 - val_loss: 0.7222 - val_acc: 0.7540\n",
      "Epoch 3/10\n",
      " - 3s - loss: 0.6690 - acc: 0.7711 - val_loss: 0.6687 - val_acc: 0.7717\n",
      "Epoch 4/10\n",
      " - 3s - loss: 0.6269 - acc: 0.7854 - val_loss: 0.6342 - val_acc: 0.7824\n",
      "Epoch 5/10\n",
      " - 3s - loss: 0.5977 - acc: 0.7956 - val_loss: 0.6120 - val_acc: 0.7903\n",
      "Epoch 6/10\n",
      " - 3s - loss: 0.5790 - acc: 0.8014 - val_loss: 0.5964 - val_acc: 0.7952\n",
      "Epoch 7/10\n",
      " - 3s - loss: 0.5636 - acc: 0.8052 - val_loss: 0.5823 - val_acc: 0.7995\n",
      "Epoch 8/10\n",
      " - 3s - loss: 0.5516 - acc: 0.8107 - val_loss: 0.5713 - val_acc: 0.8035\n",
      "Epoch 9/10\n",
      " - 3s - loss: 0.5408 - acc: 0.8142 - val_loss: 0.5629 - val_acc: 0.8065\n",
      "Epoch 10/10\n",
      " - 3s - loss: 0.5329 - acc: 0.8178 - val_loss: 0.5552 - val_acc: 0.8088\n",
      "Baseline Error: 19.12%\n"
     ]
    }
   ],
   "source": [
    "model = baseline_model2()\n",
    "# Fit the model\n",
    "model.fit(X_train, y_train, validation_data=(X_test, y_test), epochs=10, batch_size=200, verbose=2)\n",
    "# Final evaluation of the model\n",
    "scores = model.evaluate(X_test, y_test, verbose=0)\n",
    "print(\"Baseline Error: %.2f%%\" % (100-scores[1]*100))"
   ]
  },
  {
   "cell_type": "markdown",
   "metadata": {
    "slideshow": {
     "slide_type": "slide"
    }
   },
   "source": [
    "### Build the Neural Network model with 3 Dense layers with 30(feel free to play with the no.of neurons and the layers),10 neurons respectively in each layer. Use cross entropy loss function and singmoid as activation in the hidden layers and softmax as activation function in the output layer. Use sgd optimizer with learning rate 0.03."
   ]
  },
  {
   "cell_type": "code",
   "execution_count": 46,
   "metadata": {},
   "outputs": [],
   "source": [
    "def baseline_model3():\n",
    "\t# create model\n",
    "\tmodel = Sequential()    \n",
    "\tmodel.add(Dense(num_pixels, input_dim=num_pixels, kernel_initializer='normal'))\n",
    "\tmodel.add(Dense(30,activation='sigmoid'))\n",
    "\tmodel.add(Dense(20,activation='sigmoid'))\n",
    "\tmodel.add(Dense(10,activation='sigmoid'))\n",
    "\tmodel.add(Dense(num_classes, kernel_initializer='normal', activation='softmax'))\n",
    "\t# Compile model\n",
    "\tsgd = optimizers.SGD(lr=0.001)\n",
    "\tmodel.compile(loss='categorical_crossentropy', optimizer=sgd, metrics=['accuracy'])\n",
    "\treturn model\n",
    "\n"
   ]
  },
  {
   "cell_type": "code",
   "execution_count": 47,
   "metadata": {},
   "outputs": [
    {
     "name": "stdout",
     "output_type": "stream",
     "text": [
      "Train on 60000 samples, validate on 10000 samples\n",
      "Epoch 1/10\n",
      " - 3s - loss: 2.3101 - acc: 0.1000 - val_loss: 2.3092 - val_acc: 0.1000\n",
      "Epoch 2/10\n",
      " - 3s - loss: 2.3085 - acc: 0.1000 - val_loss: 2.3079 - val_acc: 0.1000\n",
      "Epoch 3/10\n",
      " - 3s - loss: 2.3073 - acc: 0.1000 - val_loss: 2.3068 - val_acc: 0.1000\n",
      "Epoch 4/10\n",
      " - 3s - loss: 2.3064 - acc: 0.1000 - val_loss: 2.3059 - val_acc: 0.1000\n",
      "Epoch 5/10\n",
      " - 3s - loss: 2.3056 - acc: 0.1000 - val_loss: 2.3052 - val_acc: 0.1000\n",
      "Epoch 6/10\n",
      " - 3s - loss: 2.3049 - acc: 0.1000 - val_loss: 2.3046 - val_acc: 0.1000\n",
      "Epoch 7/10\n",
      " - 3s - loss: 2.3044 - acc: 0.1000 - val_loss: 2.3042 - val_acc: 0.1000\n",
      "Epoch 8/10\n",
      " - 3s - loss: 2.3040 - acc: 0.1000 - val_loss: 2.3038 - val_acc: 0.1000\n",
      "Epoch 9/10\n",
      " - 3s - loss: 2.3037 - acc: 0.1000 - val_loss: 2.3035 - val_acc: 0.1000\n",
      "Epoch 10/10\n",
      " - 3s - loss: 2.3034 - acc: 0.1000 - val_loss: 2.3033 - val_acc: 0.1000\n",
      "Baseline Error: 90.00%\n"
     ]
    }
   ],
   "source": [
    "model = baseline_model3()\n",
    "# Fit the model\n",
    "model.fit(X_train, y_train, validation_data=(X_test, y_test), epochs=10, batch_size=200, verbose=2)\n",
    "# Final evaluation of the model\n",
    "scores = model.evaluate(X_test, y_test, verbose=0)\n",
    "print(\"Baseline Error: %.2f%%\" % (100-scores[1]*100))"
   ]
  },
  {
   "cell_type": "code",
   "execution_count": null,
   "metadata": {
    "collapsed": true
   },
   "outputs": [],
   "source": []
  },
  {
   "cell_type": "code",
   "execution_count": null,
   "metadata": {
    "collapsed": true
   },
   "outputs": [],
   "source": []
  },
  {
   "cell_type": "markdown",
   "metadata": {
    "slideshow": {
     "slide_type": "slide"
    }
   },
   "source": [
    "## Review model"
   ]
  },
  {
   "cell_type": "code",
   "execution_count": 50,
   "metadata": {},
   "outputs": [
    {
     "name": "stdout",
     "output_type": "stream",
     "text": [
      "_________________________________________________________________\n",
      "Layer (type)                 Output Shape              Param #   \n",
      "=================================================================\n",
      "dense_16 (Dense)             (None, 784)               615440    \n",
      "_________________________________________________________________\n",
      "dense_17 (Dense)             (None, 30)                23550     \n",
      "_________________________________________________________________\n",
      "dense_18 (Dense)             (None, 20)                620       \n",
      "_________________________________________________________________\n",
      "dense_19 (Dense)             (None, 10)                210       \n",
      "_________________________________________________________________\n",
      "dense_20 (Dense)             (None, 10)                110       \n",
      "=================================================================\n",
      "Total params: 639,930\n",
      "Trainable params: 639,930\n",
      "Non-trainable params: 0\n",
      "_________________________________________________________________\n"
     ]
    }
   ],
   "source": [
    "model.summary()"
   ]
  },
  {
   "cell_type": "markdown",
   "metadata": {
    "slideshow": {
     "slide_type": "slide"
    }
   },
   "source": [
    "### Run the model"
   ]
  },
  {
   "cell_type": "code",
   "execution_count": null,
   "metadata": {
    "collapsed": true
   },
   "outputs": [],
   "source": []
  }
 ],
 "metadata": {
  "kernelspec": {
   "display_name": "Python 3",
   "language": "python",
   "name": "python3"
  },
  "language_info": {
   "codemirror_mode": {
    "name": "ipython",
    "version": 3
   },
   "file_extension": ".py",
   "mimetype": "text/x-python",
   "name": "python",
   "nbconvert_exporter": "python",
   "pygments_lexer": "ipython3",
   "version": "3.6.3"
  }
 },
 "nbformat": 4,
 "nbformat_minor": 2
}
